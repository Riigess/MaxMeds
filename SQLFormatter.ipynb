{
 "cells": [
  {
   "cell_type": "markdown",
   "metadata": {},
   "source": [
    "# SQLFormatter\n",
    "This code is designed to format the dates posted in SQLite.\n",
    "\n",
    "## Code documentation\n",
    "Get a connection to the sqlite database and confirm which column is the timestamp"
   ]
  },
  {
   "cell_type": "code",
   "execution_count": 3,
   "metadata": {},
   "outputs": [],
   "source": [
    "import sqlite3 as sqlite\n",
    "\n",
    "cnx = sqlite.connect('database.sqlite')\n",
    "cur = cnx.cursor()\n",
    "cur.execute(\"SELECT * FROM MaxMeds\")\n",
    "headers = [i[0] for i in cur.description]\n",
    "all = cur.fetchall()\n",
    "\n",
    "t_col = headers.index(\"timestamp\")\n",
    "for i in range(len(all)):\n",
    "    d = all[i][t_col]\n",
    "    date_spl = d.split(' ')\n",
    "    cal_spl = date_spl[0].split('-')\n",
    "    #Flip the year to be at the front, if it isn't already there..\n",
    "    if len(d.split(' ')[0].split('-')[-1]) == 4:\n",
    "        to_swap = '-'.join([cal_spl[-1], cal_spl[0], cal_spl[1]]) + f\" {date_spl[1]}\"\n",
    "        cur.execute(f'UPDATE MaxMeds SET timestamp=\"{to_swap}\" WHERE id={all[i][0]}')\n",
    "cnx.commit()"
   ]
  },
  {
   "cell_type": "code",
   "execution_count": null,
   "metadata": {},
   "outputs": [],
   "source": []
  }
 ],
 "metadata": {
  "kernelspec": {
   "display_name": "Python 3 (ipykernel)",
   "language": "python",
   "name": "python3"
  },
  "language_info": {
   "codemirror_mode": {
    "name": "ipython",
    "version": 3
   },
   "file_extension": ".py",
   "mimetype": "text/x-python",
   "name": "python",
   "nbconvert_exporter": "python",
   "pygments_lexer": "ipython3",
   "version": "3.10.13"
  }
 },
 "nbformat": 4,
 "nbformat_minor": 4
}
